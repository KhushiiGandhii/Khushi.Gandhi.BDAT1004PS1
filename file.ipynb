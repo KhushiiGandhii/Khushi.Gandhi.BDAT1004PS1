{
 "cells": [
  {
   "cell_type": "code",
   "execution_count": 2,
   "id": "ae9ba30f",
   "metadata": {},
   "outputs": [
    {
     "name": "stdout",
     "output_type": "stream",
     "text": [
      "5 is of data type <class 'int'>\n",
      "5.0 is of data type <class 'float'>\n",
      "True is of data type <class 'bool'>\n",
      "5 is of data type <class 'str'>\n",
      "10 is of data type <class 'int'>\n",
      "55 is of data type <class 'str'>\n",
      "52 is of data type <class 'str'>\n",
      "2.5 is of data type <class 'float'>\n",
      "1 is of data type <class 'int'>\n",
      "{1, 2, 5} is of data type <class 'set'>\n",
      "False is of data type <class 'bool'>\n"
     ]
    }
   ],
   "source": [
    "#Q1\n",
    "Data = [5, 5.0, 5 > 1, '5', 5 * 2, '5' * 2, '5' + '2', 5 / 2, 5 % 2, {5, 2, 1}, 5 == 3]\n",
    "\n",
    "for i in Data:\n",
    "    datatype = type(i)\n",
    "    print(f\"{i} is of data type {datatype}\")"
   ]
  },
  {
   "cell_type": "code",
   "execution_count": 3,
   "id": "2111e975",
   "metadata": {},
   "outputs": [
    {
     "name": "stdout",
     "output_type": "stream",
     "text": [
      "a. There are {num_letters} letters in '{word}'.\n",
      "b. Does '{word}' contain '{substring}' as a substring? {c_substring}\n",
      "c. The longest word is: '{l_word}'\n",
      "d. First composer in the dictionary: Bartok\n",
      "   Last composer in the dictionary: Buxtehude\n"
     ]
    }
   ],
   "source": [
    "#Q2\n",
    "#a\n",
    "word = 'Supercalifragilisticexpialidocious'\n",
    "num_letters = len(word)\n",
    "print(\"a. There are {num_letters} letters in '{word}'.\")\n",
    "\n",
    "#b\n",
    "string = 'ice'\n",
    "c_substring = string in word\n",
    "print(\"b. Does '{word}' contain '{substring}' as a substring? {c_substring}\")\n",
    "\n",
    "#c\n",
    "words = [\n",
    "    'Supercalifragilisticexpialidocious',\n",
    "    'Honorificabilitudinitatibus',\n",
    "    'Bababadalgharaghtakamminarronnkonn'\n",
    "]\n",
    "l_word = max(words, key=len)\n",
    "print(\"c. The longest word is: '{l_word}'\")\n",
    "\n",
    "#d\n",
    "composers = ['Berlioz', 'Borodin', 'Brian', 'Bartok', 'Bellini', 'Buxtehude', 'Bernstein']\n",
    "composers.sort()\n",
    "first_composer = composers[0]\n",
    "last_composer = composers[-1]\n",
    "print(f\"d. First composer in the dictionary: {first_composer}\")\n",
    "print(f\"   Last composer in the dictionary: {last_composer}\")"
   ]
  },
  {
   "cell_type": "code",
   "execution_count": 4,
   "id": "facf9e33",
   "metadata": {},
   "outputs": [
    {
     "name": "stdout",
     "output_type": "stream",
     "text": [
      "1.7320508075688772\n"
     ]
    }
   ],
   "source": [
    "#Q3\n",
    "import math\n",
    "def triangleArea(a, b, c):\n",
    "    s = (a + b + c) / 2\n",
    "    \n",
    "    #Calculate the area using Heron's formula\n",
    "    area = math.sqrt(s * (s - a) * (s - b) * (s - c))   \n",
    "    return area\n",
    "\n",
    "result = triangleArea(2, 2, 2)\n",
    "print(result)"
   ]
  },
  {
   "cell_type": "code",
   "execution_count": 5,
   "id": "c31a4bb1",
   "metadata": {},
   "outputs": [
    {
     "name": "stdout",
     "output_type": "stream",
     "text": [
      "Input the number of elements to be stored in the array: 5\n",
      "element - 0 : 28\n",
      "element - 1 : 16\n",
      "element - 2 : 4\n",
      "element - 3 : 22\n",
      "element - 4 : 15\n",
      "The Even elements are:\n",
      "28 16 4 22\n",
      "The Odd elements are:\n",
      "15\n"
     ]
    }
   ],
   "source": [
    "#Q4\n",
    "num_elements = int(input(\"Input the number of elements to be stored in the array: \"))\n",
    "\n",
    "even_nums = []\n",
    "odd_nums = []\n",
    "\n",
    "for i in range(num_elements):\n",
    "    element = int(input(f\"element - {i} : \"))\n",
    "    if element % 2 == 0:\n",
    "        even_nums.append(element)\n",
    "    else:\n",
    "        odd_nums.append(element)\n",
    "\n",
    "#Print the results\n",
    "print(\"The Even elements are:\")\n",
    "print(\" \".join(map(str, even_nums)))\n",
    "\n",
    "print(\"The Odd elements are:\")\n",
    "print(\" \".join(map(str, odd_nums)))"
   ]
  },
  {
   "cell_type": "code",
   "execution_count": 6,
   "id": "981561ae",
   "metadata": {},
   "outputs": [
    {
     "name": "stdout",
     "output_type": "stream",
     "text": [
      "True\n",
      "False\n",
      "False\n",
      "True\n"
     ]
    }
   ],
   "source": [
    "#Q5\n",
    "def inside(x, y, x1, y1, x2, y2):\n",
    "    return x1 <= x <= x2 and y1 <= y <= y2\n",
    "\n",
    "result1 = inside(1, 1, 0, 0, 2, 3)\n",
    "result2 = inside(-1, -1, 0, 0, 2, 3)\n",
    "print(result1)  # True\n",
    "print(result2)  # False\n",
    "\n",
    "#Test whether (1, 1) lies in the specified rectangles\n",
    "rect1 = inside(1, 1, 0.3, 0.5, 1.1, 0.7)\n",
    "rect2 = inside(1, 1, 0.5, 0.2, 1.1, 2)\n",
    "print(rect1)  #False\n",
    "print(rect2)  #True"
   ]
  },
  {
   "cell_type": "code",
   "execution_count": 7,
   "id": "1dcd82bf",
   "metadata": {},
   "outputs": [
    {
     "name": "stdout",
     "output_type": "stream",
     "text": [
      "appyhay\n",
      "enterway\n"
     ]
    }
   ],
   "source": [
    "#Q6\n",
    "def pig(word):\n",
    "    word = word.lower()\n",
    "    \n",
    "    vowels = {'a', 'e', 'i', 'o', 'u'}\n",
    "    \n",
    "    if word[0] in vowels:\n",
    "        return word + 'way'\n",
    "    else:\n",
    "        index = 0\n",
    "        while index < len(word) and word[index] not in vowels:\n",
    "            index += 1\n",
    "        pig_latin = word[index:] + word[:index] + 'ay'\n",
    "        return pig_latin\n",
    "\n",
    "print(pig('happy')) \n",
    "print(pig('Enter'))  "
   ]
  },
  {
   "cell_type": "code",
   "execution_count": 8,
   "id": "f62bd1f6",
   "metadata": {},
   "outputs": [
    {
     "name": "stdout",
     "output_type": "stream",
     "text": [
      "There are 10 patients of blood type A.\n",
      "There is one patient of blood type B.\n",
      "There are 10 patients of blood type AB.\n",
      "There are 12 patients of blood type O.\n",
      "There are no patients of blood type OO.\n"
     ]
    }
   ],
   "source": [
    "#Q7\n",
    "def bldcount(bloodtype):\n",
    "    #Initializing a dictionary to store the counts for each blood type\n",
    "    bloodtype_counts = {'A': 10, 'B': 1, 'AB': 10, 'O': 12, 'OO': 0}\n",
    "    \n",
    "    try:\n",
    "        #Open the file for reading\n",
    "        with open(bloodtype, 'r') as file:\n",
    "            for line in file:\n",
    "                # Remove whitespace\n",
    "                line = line.strip()\n",
    "                \n",
    "                # Increment the count for the blood type\n",
    "                if line in bloodtype_counts:\n",
    "                    bloodtype_counts[line] += 1\n",
    "\n",
    "        for blood_type, count in bloodtype_counts.items():\n",
    "            if count == 1:\n",
    "                print(f\"There is one patient of blood type {blood_type}.\")\n",
    "            elif count > 1:\n",
    "                print(f\"There are {count} patients of blood type {blood_type}.\")\n",
    "            else:\n",
    "                print(f\"There are no patients of blood type {blood_type}.\")\n",
    "    \n",
    "    except FileNotFoundError:\n",
    "        print(f\"File '{bloodtype}' not found.\")\n",
    "    except Exception as e:\n",
    "        print(f\"An error occurred: {e}\")\n",
    "\n",
    "bldcount(\"C:/Users/khush/Downloads/bloodtype1.txt\")"
   ]
  },
  {
   "cell_type": "code",
   "execution_count": 9,
   "id": "674b0e69",
   "metadata": {},
   "outputs": [
    {
     "name": "stdout",
     "output_type": "stream",
     "text": [
      "122.96544\n",
      "1.241401\n"
     ]
    }
   ],
   "source": [
    "#Q8\n",
    "def curconv(currency, amount):\n",
    "    try:\n",
    "        with open(\"C:/Users/khush/Downloads/currencies.txt\", 'r') as file:\n",
    "            for line in file:\n",
    "                parts = line.split()\n",
    "                if parts[0] == currency:\n",
    "                    rate = float(parts[1])\n",
    "                    return amount * rate\n",
    "        raise ValueError(f\"Currency code '{currency}' not found in currencies.txt\")\n",
    "    except FileNotFoundError:\n",
    "        print(\"Error: 'currencies.txt' file not found.\")\n",
    "    except Exception as e:\n",
    "        print(f\"An error occurred: {e}\")\n",
    "\n",
    "usd_amount1 = curconv('EUR', 100)\n",
    "print(usd_amount1)  # 122.96544\n",
    "\n",
    "usd_amount2 = curconv('JPY', 100)\n",
    "print(usd_amount2)  # 1.241401\n"
   ]
  },
  {
   "cell_type": "code",
   "execution_count": 10,
   "id": "93e2240b",
   "metadata": {},
   "outputs": [
    {
     "name": "stdout",
     "output_type": "stream",
     "text": [
      "Scenario 1: TypeError - unsupported operand type(s) for +: 'int' and 'str'\n",
      "Scenario 2: IndexError - list index out of range\n",
      "Scenario 3: ValueError - math domain error\n",
      "Scenario 4: NameError - name 'x' is not defined\n",
      "Scenario 5: FileNotFoundError - [Errno 2] No such file or directory: 'non_existent_file.txt'\n"
     ]
    }
   ],
   "source": [
    "#Q9\n",
    "import math\n",
    "\n",
    "#Scenario 1: Trying to add incompatible variables\n",
    "try:\n",
    "    result = 6 + 'a'\n",
    "except TypeError as e:\n",
    "    print(f\"Scenario 1: {e.__class__.__name__} - {e}\")\n",
    "\n",
    "#Scenario 2: Referring to the 12th item of a list that has only 10 items\n",
    "try:\n",
    "    my_list = [0, 1, 2, 3, 4, 5, 6, 7, 8, 9]\n",
    "    item = my_list[12]\n",
    "except IndexError as e:\n",
    "    print(f\"Scenario 2: {e.__class__.__name__} - {e}\")\n",
    "\n",
    "#Scenario 3: Using a value that is out of range for a function's input\n",
    "try:\n",
    "    negative_sqrt = math.sqrt(-1.0)\n",
    "except ValueError as e:\n",
    "    print(f\"Scenario 3: {e.__class__.__name__} - {e}\")\n",
    "\n",
    "#Scenario 4: Using an undeclared variable\n",
    "try:\n",
    "    print(x)\n",
    "except NameError as e:\n",
    "    print(f\"Scenario 4: {e.__class__.__name__} - {e}\")\n",
    "\n",
    "#Scenario 5: Trying to open a file that does not exist\n",
    "try:\n",
    "    with open('non_existent_file.txt', 'r'):\n",
    "        pass\n",
    "except FileNotFoundError as e:\n",
    "    print(f\"Scenario 5: {e.__class__.__name__} - {e}\")\n"
   ]
  },
  {
   "cell_type": "code",
   "execution_count": 11,
   "id": "249272fc",
   "metadata": {},
   "outputs": [
    {
     "name": "stdout",
     "output_type": "stream",
     "text": [
      "[1, 1, 1, 3, 5, 1, 1, 2, 1, 0, 1, 0, 1, 2, 4, 0, 1, 2, 0, 3, 1, 0, 1, 1, 0, 0]\n",
      "[1, 0, 0, 0, 1, 0, 0, 0, 0, 0, 0, 1, 0, 0, 0, 2, 0, 0, 0, 0, 0, 0, 0, 0, 0, 0]\n"
     ]
    }
   ],
   "source": [
    "#Q10\n",
    "def frequencies(text):\n",
    "    letters = 'abcdefghijklmnopqrstuvwxyz'\n",
    "    \n",
    "    char_freq = [0] * 26\n",
    "    \n",
    "    text = text.lower()\n",
    "    \n",
    "    for char in text:\n",
    "        if char.isalpha() and char in letters:\n",
    "            index = letters.index(char)\n",
    "            char_freq[index] += 1\n",
    "    \n",
    "    return char_freq\n",
    "\n",
    "result1 = frequencies('The quick red fox got bored and went home.')\n",
    "print(result1)  # [1, 1, 1, 3, 5, 1, 1, 2, 1, 0, 1, 0, 1, 2, 4, 0, 1, 2, 0, 2, 1, 0, 1, 1, 0, 0]\n",
    "\n",
    "result2 = frequencies('apple')\n",
    "print(result2)  # [1, 0, 0, 0, 1, 0, 0, 0, 0, 0, 0, 1, 0, 0, 0, 2, 0, 0, 0, 0, 0, 0, 0, 0, 0, 0]"
   ]
  },
  {
   "cell_type": "code",
   "execution_count": null,
   "id": "e9ef0996",
   "metadata": {},
   "outputs": [],
   "source": []
  }
 ],
 "metadata": {
  "kernelspec": {
   "display_name": "Python 3 (ipykernel)",
   "language": "python",
   "name": "python3"
  },
  "language_info": {
   "codemirror_mode": {
    "name": "ipython",
    "version": 3
   },
   "file_extension": ".py",
   "mimetype": "text/x-python",
   "name": "python",
   "nbconvert_exporter": "python",
   "pygments_lexer": "ipython3",
   "version": "3.10.8"
  }
 },
 "nbformat": 4,
 "nbformat_minor": 5
}
